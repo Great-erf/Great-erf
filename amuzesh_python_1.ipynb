{
  "cells": [
    {
      "cell_type": "markdown",
      "metadata": {
        "id": "view-in-github",
        "colab_type": "text"
      },
      "source": [
        "<a href=\"https://colab.research.google.com/github/Great-erf/pythone-code/blob/pythone/amuzesh_python_1.ipynb\" target=\"_parent\"><img src=\"https://colab.research.google.com/assets/colab-badge.svg\" alt=\"Open In Colab\"/></a>"
      ]
    },
    {
      "cell_type": "markdown",
      "source": [],
      "metadata": {
        "id": "oofjRgP1gTUX"
      }
    },
    {
      "cell_type": "code",
      "source": [
        "# hesab kardan factorial\n",
        "N = int(input(\"adad ra vared konid ta factorial begirim : \"))\n",
        "factorial = 1;\n",
        "for i in range(1,N+1):\n",
        "  factorial = factorial * i\n",
        "print(factorial)"
      ],
      "metadata": {
        "colab": {
          "base_uri": "https://localhost:8080/"
        },
        "id": "uUppcSApgTuX",
        "outputId": "dc5be6db-687a-46ad-90c2-feb31acbcbb6"
      },
      "execution_count": null,
      "outputs": [
        {
          "output_type": "stream",
          "name": "stdout",
          "text": [
            "adad ra vared konid ta factorial begirim : 2\n",
            "2\n"
          ]
        }
      ]
    },
    {
      "cell_type": "code",
      "source": [
        "matrix=[]\n",
        "for i in range(1,3+1):\n",
        "  a=[]\n",
        "  for j in range(1,2+1):\n",
        "    a.append(5)\n",
        "  matrix.append(a)\n",
        "matrix"
      ],
      "metadata": {
        "colab": {
          "base_uri": "https://localhost:8080/"
        },
        "id": "2D2If_SuhCEw",
        "outputId": "c1142a36-d136-4e09-a4ac-5bbcbe0af470"
      },
      "execution_count": null,
      "outputs": [
        {
          "output_type": "execute_result",
          "data": {
            "text/plain": [
              "[[5, 5], [5, 5], [5, 5]]"
            ]
          },
          "metadata": {},
          "execution_count": 22
        }
      ]
    },
    {
      "cell_type": "code",
      "source": [
        "matrix"
      ],
      "metadata": {
        "colab": {
          "base_uri": "https://localhost:8080/"
        },
        "id": "o1s6Dku4lIX3",
        "outputId": "483248d6-a611-413a-f27a-0594abf2ad1b"
      },
      "execution_count": null,
      "outputs": [
        {
          "output_type": "execute_result",
          "data": {
            "text/plain": [
              "[[5, 5], [5, 5], [5, 5]]"
            ]
          },
          "metadata": {},
          "execution_count": 23
        }
      ]
    },
    {
      "cell_type": "code",
      "source": [
        "matrix[2-1][1-1]=6"
      ],
      "metadata": {
        "id": "lf4drUsyuQ9G"
      },
      "execution_count": null,
      "outputs": []
    },
    {
      "cell_type": "code",
      "source": [
        "matrix"
      ],
      "metadata": {
        "colab": {
          "base_uri": "https://localhost:8080/"
        },
        "id": "Jtwd7_PQu49r",
        "outputId": "fab1045a-4c0a-45e1-925e-6317914087f1"
      },
      "execution_count": null,
      "outputs": [
        {
          "output_type": "execute_result",
          "data": {
            "text/plain": [
              "[[5, 5], [6, 5], [5, 5]]"
            ]
          },
          "metadata": {},
          "execution_count": 28
        }
      ]
    },
    {
      "cell_type": "code",
      "source": [
        "for i in range(0,3):\n",
        "  for j in range(0,2):\n",
        "    print(matrix[i][j], end = \" \")\n",
        "  print()"
      ],
      "metadata": {
        "colab": {
          "base_uri": "https://localhost:8080/"
        },
        "id": "h6qedV1PvXCh",
        "outputId": "172972fb-8707-47b7-afc1-b0e912ddbb1f"
      },
      "execution_count": null,
      "outputs": [
        {
          "output_type": "stream",
          "name": "stdout",
          "text": [
            "5 5 \n",
            "6 5 \n",
            "5 5 \n"
          ]
        }
      ]
    },
    {
      "cell_type": "code",
      "source": [
        "bod = int(input(\"matrix chand bodi ast ? \"))\n",
        "matrix = []\n",
        "for i in range(1,bod+1):\n",
        "  a =[]\n",
        "  for j in range(1,bod+1):\n",
        "    a.append(int(input(print(\"a[[\",i,\"],[\",j,\"]]\"))))\n",
        "  matrix.append(a)\n",
        "print(\"\\n matrix vared shode barabar ast ba = \")\n",
        "for i in range(bod):\n",
        "    for j in range(bod):\n",
        "        print(matrix[i][j], end = \" \")\n",
        "    print()"
      ],
      "metadata": {
        "colab": {
          "base_uri": "https://localhost:8080/"
        },
        "id": "ve_mTh67vnZ2",
        "outputId": "4aae1604-5170-4556-acab-6dcefc91526d"
      },
      "execution_count": null,
      "outputs": [
        {
          "output_type": "stream",
          "name": "stdout",
          "text": [
            "matrix chand bodi ast ? 3\n",
            "a[[ 1 ],[ 1 ]]\n",
            "None1\n",
            "a[[ 1 ],[ 2 ]]\n",
            "None2\n",
            "a[[ 1 ],[ 3 ]]\n",
            "None3\n",
            "a[[ 2 ],[ 1 ]]\n",
            "None4\n",
            "a[[ 2 ],[ 2 ]]\n",
            "None5\n",
            "a[[ 2 ],[ 3 ]]\n",
            "None6\n",
            "a[[ 3 ],[ 1 ]]\n",
            "None7\n",
            "a[[ 3 ],[ 2 ]]\n",
            "None8\n",
            "a[[ 3 ],[ 3 ]]\n",
            "None9\n",
            "\n",
            " matrix vared shode barabar ast ba = \n",
            "1 2 3 \n",
            "4 5 6 \n",
            "7 8 9 \n"
          ]
        }
      ]
    },
    {
      "cell_type": "code",
      "source": [
        "for i in range(1,5+1):\n",
        "  print(i)"
      ],
      "metadata": {
        "colab": {
          "base_uri": "https://localhost:8080/"
        },
        "id": "3KkkYbE4y_01",
        "outputId": "ac63cb28-d8c9-4f42-fcec-d632911355ab"
      },
      "execution_count": null,
      "outputs": [
        {
          "output_type": "stream",
          "name": "stdout",
          "text": [
            "1\n",
            "2\n",
            "3\n",
            "4\n",
            "5\n"
          ]
        }
      ]
    },
    {
      "cell_type": "code",
      "source": [
        "satr = int(input(\"matris chand satr darad ? \"))\n",
        "soton = int(input(\"matris chand soton darad ? \"))\n",
        "matrix = []\n",
        "for i in range(1,satr+1):\n",
        "  a =[]\n",
        "  for j in range(1,soton+1):\n",
        "    a.append(int(input(print(\"a[[\",i,\"],[\",j,\"]]\"))))\n",
        "  matrix.append(a)\n",
        "print(\"\\n matrix vared shode barabar ast ba = \")\n",
        "for i in range(satr):\n",
        "    for j in range(soton):\n",
        "        print(matrix[i][j], end = \" \")\n",
        "    print()"
      ],
      "metadata": {
        "colab": {
          "base_uri": "https://localhost:8080/"
        },
        "id": "pGg8dHLYzERZ",
        "outputId": "c704ba9d-7179-4a28-9d39-146da881c588"
      },
      "execution_count": null,
      "outputs": [
        {
          "output_type": "stream",
          "name": "stdout",
          "text": [
            "matris chand satr darad ? 2\n",
            "matris chand soton darad ? 4\n",
            "a[[ 1 ],[ 1 ]]\n",
            "None1\n",
            "a[[ 1 ],[ 2 ]]\n",
            "None2\n",
            "a[[ 1 ],[ 3 ]]\n",
            "None3\n",
            "a[[ 1 ],[ 4 ]]\n",
            "None4\n",
            "a[[ 2 ],[ 1 ]]\n",
            "None5\n",
            "a[[ 2 ],[ 2 ]]\n",
            "None6\n",
            "a[[ 2 ],[ 3 ]]\n",
            "None7\n",
            "a[[ 2 ],[ 4 ]]\n",
            "None8\n",
            "\n",
            " matrix vared shode barabar ast ba = \n",
            "1 2 3 4 \n",
            "5 6 7 8 \n"
          ]
        }
      ]
    },
    {
      "cell_type": "code",
      "source": [
        "matrix1 = []\n",
        "for i in range(1,2+1):\n",
        "  a1 =[]\n",
        "  for j in range(1,2+1):\n",
        "    a1.append(int(input(print(\"a1[[\",i,\"],[\",j,\"]]\"))))\n",
        "  matrix1.append(a1)\n",
        "print(\"\\n matrix1 vared shode barabar ast ba = \")\n",
        "for i in range(2):\n",
        "    for j in range(2):\n",
        "        print(matrix1[i][j], end = \" \")\n",
        "    print()\n",
        "matrix2 = []\n",
        "for i in range(1,2+1):\n",
        "  a2 =[]\n",
        "  for j in range(1,2+1):\n",
        "    a2.append(int(input(print(\"a2[[\",i,\"],[\",j,\"]]\"))))\n",
        "  matrix2.append(a2)\n",
        "print(\"\\n matrix2 vared shode barabar ast ba = \")\n",
        "for i in range(2):\n",
        "    for j in range(2):\n",
        "        print(matrix2[i][j], end = \" \")\n",
        "    print()\n",
        "#matrix3 = matrix1+matrix2\n",
        "#print(matrix3)"
      ],
      "metadata": {
        "colab": {
          "base_uri": "https://localhost:8080/"
        },
        "id": "y5UiI1yF4bH1",
        "outputId": "b8d5d132-5107-4828-8ddd-560f11398576"
      },
      "execution_count": null,
      "outputs": [
        {
          "output_type": "stream",
          "name": "stdout",
          "text": [
            "a[[ 1 ],[ 1 ]]\n",
            "None1\n",
            "a[[ 1 ],[ 2 ]]\n",
            "None2\n",
            "a[[ 2 ],[ 1 ]]\n",
            "None3\n",
            "a[[ 2 ],[ 2 ]]\n",
            "None4\n",
            "\n",
            " matrix1 vared shode barabar ast ba = \n",
            "1 2 \n",
            "3 4 \n",
            "a[[ 1 ],[ 1 ]]\n",
            "None5\n",
            "a[[ 1 ],[ 2 ]]\n",
            "None6\n",
            "a[[ 2 ],[ 1 ]]\n",
            "None7\n",
            "a[[ 2 ],[ 2 ]]\n",
            "None8\n",
            "\n",
            " matrix2 vared shode barabar ast ba = \n",
            "5 6 \n",
            "7 8 \n",
            "[[1, 2], [3, 4], [5, 6], [7, 8]]\n"
          ]
        }
      ]
    },
    {
      "cell_type": "code",
      "source": [
        "matrix1"
      ],
      "metadata": {
        "colab": {
          "base_uri": "https://localhost:8080/"
        },
        "id": "qVYhjlDb6hdh",
        "outputId": "6c9e881f-1e7d-47dc-b2bb-9c8b37117170"
      },
      "execution_count": null,
      "outputs": [
        {
          "output_type": "execute_result",
          "data": {
            "text/plain": [
              "[[1, 2], [3, 4]]"
            ]
          },
          "metadata": {},
          "execution_count": 48
        }
      ]
    },
    {
      "cell_type": "code",
      "source": [
        "matrix2"
      ],
      "metadata": {
        "colab": {
          "base_uri": "https://localhost:8080/"
        },
        "id": "NGHaIo1s7r94",
        "outputId": "cd8939b6-60ff-4dc2-fb4d-10168e9cedf4"
      },
      "execution_count": null,
      "outputs": [
        {
          "output_type": "execute_result",
          "data": {
            "text/plain": [
              "[[5, 6], [7, 8]]"
            ]
          },
          "metadata": {},
          "execution_count": 49
        }
      ]
    },
    {
      "cell_type": "code",
      "source": [
        "matrix3=[[0,0],[0,0]]\n",
        "matrix3[1-1][1-1]=matrix1[1-1][1-1]+matrix2[1-1][1-1]\n",
        "matrix3[1-1][2-1]=matrix1[1-1][2-1]+matrix2[1-1][2-1]\n",
        "matrix3[2-1][1-1]=matrix1[2-1][1-1]+matrix2[2-1][1-1]\n",
        "matrix3[2-1][2-1]=matrix1[2-1][2-1]+matrix2[2-1][2-1]\n",
        "matrix3"
      ],
      "metadata": {
        "colab": {
          "base_uri": "https://localhost:8080/"
        },
        "id": "FyK_5R3u7unX",
        "outputId": "bcff97b9-ba74-4c8d-c968-7298f1c420e4"
      },
      "execution_count": null,
      "outputs": [
        {
          "output_type": "execute_result",
          "data": {
            "text/plain": [
              "[[6, 8], [10, 12]]"
            ]
          },
          "metadata": {},
          "execution_count": 57
        }
      ]
    },
    {
      "cell_type": "code",
      "source": [],
      "metadata": {
        "id": "NBOflrpp97Zj"
      },
      "execution_count": null,
      "outputs": []
    }
  ],
  "metadata": {
    "colab": {
      "name": "amuzesh python 1",
      "toc_visible": true,
      "provenance": [],
      "include_colab_link": true
    },
    "kernelspec": {
      "display_name": "Python 3",
      "name": "python3"
    }
  },
  "nbformat": 4,
  "nbformat_minor": 0
}