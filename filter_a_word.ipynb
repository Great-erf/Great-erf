{
  "cells": [
    {
      "cell_type": "markdown",
      "metadata": {
        "id": "view-in-github",
        "colab_type": "text"
      },
      "source": [
        "<a href=\"https://colab.research.google.com/github/Great-erf/pythone-code/blob/pythone/filter_a_word.ipynb\" target=\"_parent\"><img src=\"https://colab.research.google.com/assets/colab-badge.svg\" alt=\"Open In Colab\"/></a>"
      ]
    },
    {
      "cell_type": "markdown",
      "source": [
        "# filter"
      ],
      "metadata": {
        "id": "4OwEZeUaXE9t"
      }
    },
    {
      "cell_type": "code",
      "source": [
        "a= 'adminofnsadminpjfasf[kas[fpkq[wkfqw[pkf[qw'\n",
        "b = 'adminofnsadminpjfasf[kas[fpkq[wkfqw[pkf[qw'"
      ],
      "metadata": {
        "id": "DEIMjUpCXFSm"
      },
      "execution_count": 93,
      "outputs": []
    },
    {
      "cell_type": "code",
      "source": [
        "a2 = list(a)\n",
        "b2 = list(b)\n",
        "a2[1]=b2[23]\n",
        "a=''.join(a2)\n",
        "a"
      ],
      "metadata": {
        "colab": {
          "base_uri": "https://localhost:8080/",
          "height": 36
        },
        "id": "tqKFbweEl9lc",
        "outputId": "60c0c0e3-ac76-4d20-995a-347b35f6e45d"
      },
      "execution_count": 95,
      "outputs": [
        {
          "output_type": "execute_result",
          "data": {
            "application/vnd.google.colaboratory.intrinsic+json": {
              "type": "string"
            },
            "text/plain": [
              "'asminofnsadminpjfasf[kas[fpkq[wkfqw[pkf[qw'"
            ]
          },
          "metadata": {},
          "execution_count": 95
        }
      ]
    },
    {
      "cell_type": "code",
      "source": [
        "# take so much time to filter\n",
        "b = list(a)\n",
        "len(b)\n",
        "for i in range(0,len(b)-4):\n",
        "  if (b[i]=='a')&(b[i+1]=='d')&(b[i+2]=='m')&(b[i+3]=='i')&(b[i+4]=='n'):\n",
        "    b[i]='*'\n",
        "    b[i+1]='*'\n",
        "    b[i+2]='*'\n",
        "    b[i+3]='*'\n",
        "    b[i+4]='*'\n",
        "a = ''.join(b)"
      ],
      "metadata": {
        "id": "-kv3N4TjXbop"
      },
      "execution_count": 73,
      "outputs": []
    },
    {
      "cell_type": "code",
      "source": [
        "a"
      ],
      "metadata": {
        "colab": {
          "base_uri": "https://localhost:8080/",
          "height": 36
        },
        "id": "cZR41FLvYMQ1",
        "outputId": "c2734369-3162-418b-b901-969566c5ec5e"
      },
      "execution_count": 74,
      "outputs": [
        {
          "output_type": "execute_result",
          "data": {
            "application/vnd.google.colaboratory.intrinsic+json": {
              "type": "string"
            },
            "text/plain": [
              "'*****ofns*****pjfasf[kas[fpkq[wkfqw[pkf[qw'"
            ]
          },
          "metadata": {},
          "execution_count": 74
        }
      ]
    },
    {
      "cell_type": "code",
      "source": [
        "# filtering def\n",
        "def filter2(vroodi,kalame):\n",
        "  b = []\n",
        "  a = []\n",
        "  a = len(vroodi)\n",
        "  c= len(kalame)\n",
        "  b = list(vroodi)\n",
        "  d = list(kalame)\n",
        "  for i in range(0,a):\n",
        "    if b[i]==d[0]:\n",
        "      o =[]\n",
        "      for j in range(0,c):\n",
        "        if b[i]==d[j]:\n",
        "          o.append(i)\n",
        "          i=i+1\n",
        "      if len(o)==c:\n",
        "        for q in range(o[0],o[0]+len(o)):\n",
        "          b[q]='*'     \n",
        "  vroodi = ''.join(b)   \n",
        "  return vroodi"
      ],
      "metadata": {
        "id": "JdvusSzLyoYJ"
      },
      "execution_count": 426,
      "outputs": []
    },
    {
      "cell_type": "code",
      "source": [
        "vroodi = 'abcadmindefghijklmadminnopqrsadmintuvwxyz'\n",
        "kalame= 'admin'\n",
        "filter2(vroodi,kalame)"
      ],
      "metadata": {
        "colab": {
          "base_uri": "https://localhost:8080/",
          "height": 36
        },
        "id": "0S-QEfaIyozC",
        "outputId": "632c137f-2742-4589-ba70-e19877536254"
      },
      "execution_count": 432,
      "outputs": [
        {
          "output_type": "execute_result",
          "data": {
            "application/vnd.google.colaboratory.intrinsic+json": {
              "type": "string"
            },
            "text/plain": [
              "'abc*****defghijklm*****nopqrs*****tuvwxyz'"
            ]
          },
          "metadata": {},
          "execution_count": 432
        }
      ]
    },
    {
      "cell_type": "code",
      "source": [
        "vroodi = 'abcdefghijklmadminnopqrstuvwxyz'\n",
        "kalame= 'wxyz'\n",
        "display(\"len kalame = \",len(kalame))\n",
        "display(\"len vroodi = \",len(vroodi))"
      ],
      "metadata": {
        "colab": {
          "base_uri": "https://localhost:8080/",
          "height": 92
        },
        "id": "JFbSJnBEnhHY",
        "outputId": "fc652915-cb15-4361-ee9a-211718cfb129"
      },
      "execution_count": 417,
      "outputs": [
        {
          "output_type": "display_data",
          "data": {
            "application/vnd.google.colaboratory.intrinsic+json": {
              "type": "string"
            },
            "text/plain": [
              "'len kalame = '"
            ]
          },
          "metadata": {}
        },
        {
          "output_type": "display_data",
          "data": {
            "text/plain": [
              "4"
            ]
          },
          "metadata": {}
        },
        {
          "output_type": "display_data",
          "data": {
            "application/vnd.google.colaboratory.intrinsic+json": {
              "type": "string"
            },
            "text/plain": [
              "'len vroodi = '"
            ]
          },
          "metadata": {}
        },
        {
          "output_type": "display_data",
          "data": {
            "text/plain": [
              "31"
            ]
          },
          "metadata": {}
        }
      ]
    },
    {
      "cell_type": "code",
      "source": [
        "o=[]\n",
        "for p in range(9,10-1+3):\n",
        "    p=p+1\n",
        "    o.append(p)"
      ],
      "metadata": {
        "id": "pMB5MY9SnyG-"
      },
      "execution_count": 300,
      "outputs": []
    },
    {
      "cell_type": "code",
      "source": [
        "#other way\n",
        "voroodi ='abcadmindefghijklmadminnopqrsadmintuvwxyz'\n",
        "kalame = 'admin'\n",
        "c= len(kalame)\n",
        "d = list(kalame)\n",
        "p = voroodi.split(kalame)\n",
        "z = []\n",
        "for j in range(c):\n",
        "  d[j]='*'\n",
        "w = ''.join(d)  \n",
        "for i in range(0,len(p)):\n",
        "#for q in range(0,len(p)-1):\n",
        "   z.append(p[i])\n",
        "   z.append(w)\n",
        "fliter = ''.join(z)  \n",
        "display('fliter = ',fliter)"
      ],
      "metadata": {
        "colab": {
          "base_uri": "https://localhost:8080/",
          "height": 55
        },
        "id": "F13YKRpJDeKe",
        "outputId": "98147085-972d-4693-965d-b10b37ac3580"
      },
      "execution_count": 490,
      "outputs": [
        {
          "output_type": "display_data",
          "data": {
            "application/vnd.google.colaboratory.intrinsic+json": {
              "type": "string"
            },
            "text/plain": [
              "'fliter = '"
            ]
          },
          "metadata": {}
        },
        {
          "output_type": "display_data",
          "data": {
            "application/vnd.google.colaboratory.intrinsic+json": {
              "type": "string"
            },
            "text/plain": [
              "'abc*****defghijklm*****nopqrs*****tuvwxyz*****'"
            ]
          },
          "metadata": {}
        }
      ]
    },
    {
      "cell_type": "code",
      "source": [
        "p"
      ],
      "metadata": {
        "colab": {
          "base_uri": "https://localhost:8080/"
        },
        "id": "m5_xtE3nET7b",
        "outputId": "3e14b314-8a51-473c-d717-5ce1973bcf62"
      },
      "execution_count": 474,
      "outputs": [
        {
          "output_type": "execute_result",
          "data": {
            "text/plain": [
              "['abc', 'defghijklm', 'nopqrs', 'tuvwxyz']"
            ]
          },
          "metadata": {},
          "execution_count": 474
        }
      ]
    },
    {
      "cell_type": "code",
      "source": [
        "p\n"
      ],
      "metadata": {
        "colab": {
          "base_uri": "https://localhost:8080/"
        },
        "id": "5qsFnezWFSO5",
        "outputId": "6db39d96-70d4-448d-d7a0-b0d6363a5297"
      },
      "execution_count": 450,
      "outputs": [
        {
          "output_type": "execute_result",
          "data": {
            "text/plain": [
              "['abc', 'defghijklm', 'nopqrs', 'tuvwxyz']"
            ]
          },
          "metadata": {},
          "execution_count": 450
        }
      ]
    },
    {
      "cell_type": "code",
      "source": [
        "\n",
        "rrrrr=[]\n",
        "for j in range(len(p)-1):\n",
        "    j=j+1\n",
        "    rrrrr.append(j)"
      ],
      "metadata": {
        "id": "TUg_G-vVGUJ3"
      },
      "execution_count": 452,
      "outputs": []
    },
    {
      "cell_type": "code",
      "source": [
        "rrrrr"
      ],
      "metadata": {
        "colab": {
          "base_uri": "https://localhost:8080/"
        },
        "id": "L6EiwMrPG3ZJ",
        "outputId": "0e6212ec-1c77-401c-fe4b-dd429ce3e298"
      },
      "execution_count": 453,
      "outputs": [
        {
          "output_type": "execute_result",
          "data": {
            "text/plain": [
              "[1, 2, 3]"
            ]
          },
          "metadata": {},
          "execution_count": 453
        }
      ]
    },
    {
      "cell_type": "code",
      "source": [
        ""
      ],
      "metadata": {
        "id": "QwTdsXhuG7JB"
      },
      "execution_count": null,
      "outputs": []
    }
  ],
  "metadata": {
    "colab": {
      "collapsed_sections": [],
      "name": "Welcome To Colaboratory",
      "toc_visible": true,
      "provenance": [],
      "include_colab_link": true
    },
    "kernelspec": {
      "display_name": "Python 3",
      "name": "python3"
    }
  },
  "nbformat": 4,
  "nbformat_minor": 0
}