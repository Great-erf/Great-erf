{
  "cells": [
    {
      "cell_type": "markdown",
      "source": [
        "# ترانهاده، وارون، تعامد، ماتریس ها"
      ],
      "metadata": {
        "id": "rIMAwhryzMr_"
      }
    },
    {
      "cell_type": "code",
      "source": [
        "import numpy as np"
      ],
      "metadata": {
        "id": "wJnaUSE6ziRI"
      },
      "execution_count": 2,
      "outputs": []
    },
    {
      "cell_type": "code",
      "source": [
        "bod = int(input(\"matrix chand bodi ast ? \"))\n",
        "matrix = []\n",
        "for i in range(1,bod+1):\n",
        "  a =[]\n",
        "  for j in range(1,bod+1):\n",
        "    a.append(int(input(print(\"a[[\",i,\"],[\",j,\"]]\"))))\n",
        "  matrix.append(a)\n",
        "print(\"\\n matrix vared shode barabar ast ba = \")\n",
        "for i in range(bod):\n",
        "    for j in range(bod):\n",
        "        print(matrix[i][j], end = \" \")\n",
        "    print()\n",
        "taranahade_matrix = (np.array(matrix).T)\n",
        "print(\"\\n taranahade matrix vared shode barabar ast ba  = \\n\",taranahade_matrix)\n",
        "b = np.linalg.det(matrix)\n",
        "print(\"\\n determinal = \",b)\n",
        "if b != 0:\n",
        "  varoon_matrix = np.linalg.inv(matrix)\n",
        "  print(\"\\nvaroon matrix vared shode barabar ast ba  = \\n\",varoon_matrix)\n",
        "else:\n",
        "  print(\"no answer\")\n",
        "#ماتریس بی اگر ماتریس مربعی متعامد باشد درایه برابر 1 میشود اما اگر نباشد درایه برابر صفر میشود\n",
        "matrix_B_khasteh_shode=[]\n",
        "for i in range(bod):\n",
        "  w = []\n",
        "  for j in range(bod):\n",
        "    if varoon_matrix[i][j] == taranahade_matrix[i][j]:\n",
        "      w.append(1)\n",
        "    else:\n",
        "      w.append(0)\n",
        "  matrix_B_khasteh_shode.append(w)\n",
        "print(\"\\n matrix B khasteh shode barabar ast ba  = \\n\")\n",
        "for i in range(bod):\n",
        "    for j in range(bod):\n",
        "        print(matrix_B_khasteh_shode[i][j], end = \" \")\n",
        "    print()"
      ],
      "metadata": {
        "id": "OQvIaKG-zm4i",
        "colab": {
          "base_uri": "https://localhost:8080/"
        },
        "outputId": "7c874fa4-bcba-4a5c-d2ac-7682bfbc158b"
      },
      "execution_count": 3,
      "outputs": [
        {
          "output_type": "stream",
          "name": "stdout",
          "text": [
            "matrix chand bodi ast ? 2\n",
            "a[[ 1 ],[ 1 ]]\n",
            "1\n",
            "a[[ 1 ],[ 2 ]]\n",
            "2\n",
            "a[[ 2 ],[ 1 ]]\n",
            "3\n",
            "a[[ 2 ],[ 2 ]]\n",
            "4\n",
            "\n",
            " matrix vared shode barabar ast ba = \n",
            "1 2 \n",
            "3 4 \n",
            "\n",
            " taranahade matrix vared shode barabar ast ba  = \n",
            " [[1 3]\n",
            " [2 4]]\n",
            "\n",
            " determinal =  -2.0000000000000004\n",
            "\n",
            "varoon matrix vared shode barabar ast ba  = \n",
            " [[-2.   1. ]\n",
            " [ 1.5 -0.5]]\n",
            "\n",
            " matrix B khasteh shode barabar ast ba  = \n",
            "\n",
            "0 0 \n",
            "0 0 \n"
          ]
        }
      ]
    },
    {
      "cell_type": "code",
      "source": [
        ""
      ],
      "metadata": {
        "id": "ZyS3xs4kzo5z"
      },
      "execution_count": null,
      "outputs": []
    }
  ],
  "metadata": {
    "colab": {
      "collapsed_sections": [],
      "name": "matrix taranahadeh varoon moteamed",
      "provenance": []
    },
    "kernelspec": {
      "display_name": "Python 3",
      "name": "python3"
    }
  },
  "nbformat": 4,
  "nbformat_minor": 0
}