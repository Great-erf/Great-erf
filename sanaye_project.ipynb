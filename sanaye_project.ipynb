{
  "cells": [
    {
      "cell_type": "markdown",
      "metadata": {
        "id": "view-in-github",
        "colab_type": "text"
      },
      "source": [
        "<a href=\"https://colab.research.google.com/github/Great-erf/pythone-code/blob/pythone/sanaye_project.ipynb\" target=\"_parent\"><img src=\"https://colab.research.google.com/assets/colab-badge.svg\" alt=\"Open In Colab\"/></a>"
      ]
    },
    {
      "cell_type": "markdown",
      "source": [
        "# New Section"
      ],
      "metadata": {
        "id": "UKmWm654RuJg"
      }
    },
    {
      "cell_type": "code",
      "source": [
        "import pandas as pd\n",
        "import numpy as np\n"
      ],
      "metadata": {
        "id": "iouq5LxSR0GJ"
      },
      "execution_count": 1,
      "outputs": []
    },
    {
      "cell_type": "code",
      "source": [
        "L = pd.read_excel('Decision_tree.xlsx')\n",
        "L"
      ],
      "metadata": {
        "colab": {
          "base_uri": "https://localhost:8080/",
          "height": 1000
        },
        "id": "OrVv13PpR6Z4",
        "outputId": "8587af8b-b86b-4366-a3ab-355e00d6a320"
      },
      "execution_count": 6,
      "outputs": [
        {
          "output_type": "execute_result",
          "data": {
            "text/html": [
              "\n",
              "  <div id=\"df-88a6b1b2-5dc6-4649-a79c-f99d0aad98c6\">\n",
              "    <div class=\"colab-df-container\">\n",
              "      <div>\n",
              "<style scoped>\n",
              "    .dataframe tbody tr th:only-of-type {\n",
              "        vertical-align: middle;\n",
              "    }\n",
              "\n",
              "    .dataframe tbody tr th {\n",
              "        vertical-align: top;\n",
              "    }\n",
              "\n",
              "    .dataframe thead th {\n",
              "        text-align: right;\n",
              "    }\n",
              "</style>\n",
              "<table border=\"1\" class=\"dataframe\">\n",
              "  <thead>\n",
              "    <tr style=\"text-align: right;\">\n",
              "      <th></th>\n",
              "      <th>F1</th>\n",
              "      <th>F2</th>\n",
              "      <th>F3</th>\n",
              "      <th>F4</th>\n",
              "      <th>F5</th>\n",
              "      <th>Class</th>\n",
              "    </tr>\n",
              "  </thead>\n",
              "  <tbody>\n",
              "    <tr>\n",
              "      <th>0</th>\n",
              "      <td>1</td>\n",
              "      <td>1</td>\n",
              "      <td>1</td>\n",
              "      <td>1</td>\n",
              "      <td>1</td>\n",
              "      <td>1</td>\n",
              "    </tr>\n",
              "    <tr>\n",
              "      <th>1</th>\n",
              "      <td>1</td>\n",
              "      <td>1</td>\n",
              "      <td>1</td>\n",
              "      <td>1</td>\n",
              "      <td>1</td>\n",
              "      <td>1</td>\n",
              "    </tr>\n",
              "    <tr>\n",
              "      <th>2</th>\n",
              "      <td>1</td>\n",
              "      <td>1</td>\n",
              "      <td>1</td>\n",
              "      <td>1</td>\n",
              "      <td>1</td>\n",
              "      <td>1</td>\n",
              "    </tr>\n",
              "    <tr>\n",
              "      <th>3</th>\n",
              "      <td>1</td>\n",
              "      <td>1</td>\n",
              "      <td>1</td>\n",
              "      <td>1</td>\n",
              "      <td>0</td>\n",
              "      <td>1</td>\n",
              "    </tr>\n",
              "    <tr>\n",
              "      <th>4</th>\n",
              "      <td>1</td>\n",
              "      <td>1</td>\n",
              "      <td>1</td>\n",
              "      <td>1</td>\n",
              "      <td>0</td>\n",
              "      <td>1</td>\n",
              "    </tr>\n",
              "    <tr>\n",
              "      <th>5</th>\n",
              "      <td>1</td>\n",
              "      <td>1</td>\n",
              "      <td>1</td>\n",
              "      <td>1</td>\n",
              "      <td>0</td>\n",
              "      <td>1</td>\n",
              "    </tr>\n",
              "    <tr>\n",
              "      <th>6</th>\n",
              "      <td>1</td>\n",
              "      <td>1</td>\n",
              "      <td>1</td>\n",
              "      <td>0</td>\n",
              "      <td>0</td>\n",
              "      <td>1</td>\n",
              "    </tr>\n",
              "    <tr>\n",
              "      <th>7</th>\n",
              "      <td>1</td>\n",
              "      <td>1</td>\n",
              "      <td>1</td>\n",
              "      <td>0</td>\n",
              "      <td>0</td>\n",
              "      <td>1</td>\n",
              "    </tr>\n",
              "    <tr>\n",
              "      <th>8</th>\n",
              "      <td>1</td>\n",
              "      <td>1</td>\n",
              "      <td>1</td>\n",
              "      <td>0</td>\n",
              "      <td>0</td>\n",
              "      <td>1</td>\n",
              "    </tr>\n",
              "    <tr>\n",
              "      <th>9</th>\n",
              "      <td>1</td>\n",
              "      <td>1</td>\n",
              "      <td>1</td>\n",
              "      <td>0</td>\n",
              "      <td>0</td>\n",
              "      <td>1</td>\n",
              "    </tr>\n",
              "    <tr>\n",
              "      <th>10</th>\n",
              "      <td>0</td>\n",
              "      <td>1</td>\n",
              "      <td>0</td>\n",
              "      <td>1</td>\n",
              "      <td>1</td>\n",
              "      <td>2</td>\n",
              "    </tr>\n",
              "    <tr>\n",
              "      <th>11</th>\n",
              "      <td>0</td>\n",
              "      <td>1</td>\n",
              "      <td>0</td>\n",
              "      <td>1</td>\n",
              "      <td>1</td>\n",
              "      <td>2</td>\n",
              "    </tr>\n",
              "    <tr>\n",
              "      <th>12</th>\n",
              "      <td>0</td>\n",
              "      <td>1</td>\n",
              "      <td>0</td>\n",
              "      <td>1</td>\n",
              "      <td>1</td>\n",
              "      <td>2</td>\n",
              "    </tr>\n",
              "    <tr>\n",
              "      <th>13</th>\n",
              "      <td>0</td>\n",
              "      <td>1</td>\n",
              "      <td>0</td>\n",
              "      <td>1</td>\n",
              "      <td>0</td>\n",
              "      <td>2</td>\n",
              "    </tr>\n",
              "    <tr>\n",
              "      <th>14</th>\n",
              "      <td>0</td>\n",
              "      <td>1</td>\n",
              "      <td>0</td>\n",
              "      <td>1</td>\n",
              "      <td>0</td>\n",
              "      <td>2</td>\n",
              "    </tr>\n",
              "    <tr>\n",
              "      <th>15</th>\n",
              "      <td>0</td>\n",
              "      <td>1</td>\n",
              "      <td>0</td>\n",
              "      <td>1</td>\n",
              "      <td>0</td>\n",
              "      <td>2</td>\n",
              "    </tr>\n",
              "    <tr>\n",
              "      <th>16</th>\n",
              "      <td>0</td>\n",
              "      <td>1</td>\n",
              "      <td>0</td>\n",
              "      <td>0</td>\n",
              "      <td>0</td>\n",
              "      <td>2</td>\n",
              "    </tr>\n",
              "    <tr>\n",
              "      <th>17</th>\n",
              "      <td>0</td>\n",
              "      <td>1</td>\n",
              "      <td>0</td>\n",
              "      <td>0</td>\n",
              "      <td>0</td>\n",
              "      <td>2</td>\n",
              "    </tr>\n",
              "    <tr>\n",
              "      <th>18</th>\n",
              "      <td>0</td>\n",
              "      <td>1</td>\n",
              "      <td>0</td>\n",
              "      <td>0</td>\n",
              "      <td>0</td>\n",
              "      <td>2</td>\n",
              "    </tr>\n",
              "    <tr>\n",
              "      <th>19</th>\n",
              "      <td>0</td>\n",
              "      <td>1</td>\n",
              "      <td>0</td>\n",
              "      <td>0</td>\n",
              "      <td>0</td>\n",
              "      <td>2</td>\n",
              "    </tr>\n",
              "    <tr>\n",
              "      <th>20</th>\n",
              "      <td>0</td>\n",
              "      <td>1</td>\n",
              "      <td>0</td>\n",
              "      <td>0</td>\n",
              "      <td>0</td>\n",
              "      <td>2</td>\n",
              "    </tr>\n",
              "    <tr>\n",
              "      <th>21</th>\n",
              "      <td>1</td>\n",
              "      <td>0</td>\n",
              "      <td>0</td>\n",
              "      <td>1</td>\n",
              "      <td>1</td>\n",
              "      <td>3</td>\n",
              "    </tr>\n",
              "    <tr>\n",
              "      <th>22</th>\n",
              "      <td>1</td>\n",
              "      <td>0</td>\n",
              "      <td>0</td>\n",
              "      <td>1</td>\n",
              "      <td>1</td>\n",
              "      <td>3</td>\n",
              "    </tr>\n",
              "    <tr>\n",
              "      <th>23</th>\n",
              "      <td>1</td>\n",
              "      <td>0</td>\n",
              "      <td>0</td>\n",
              "      <td>1</td>\n",
              "      <td>0</td>\n",
              "      <td>3</td>\n",
              "    </tr>\n",
              "    <tr>\n",
              "      <th>24</th>\n",
              "      <td>1</td>\n",
              "      <td>0</td>\n",
              "      <td>0</td>\n",
              "      <td>1</td>\n",
              "      <td>0</td>\n",
              "      <td>3</td>\n",
              "    </tr>\n",
              "    <tr>\n",
              "      <th>25</th>\n",
              "      <td>1</td>\n",
              "      <td>0</td>\n",
              "      <td>0</td>\n",
              "      <td>1</td>\n",
              "      <td>0</td>\n",
              "      <td>3</td>\n",
              "    </tr>\n",
              "    <tr>\n",
              "      <th>26</th>\n",
              "      <td>1</td>\n",
              "      <td>0</td>\n",
              "      <td>0</td>\n",
              "      <td>0</td>\n",
              "      <td>0</td>\n",
              "      <td>3</td>\n",
              "    </tr>\n",
              "    <tr>\n",
              "      <th>27</th>\n",
              "      <td>1</td>\n",
              "      <td>0</td>\n",
              "      <td>0</td>\n",
              "      <td>0</td>\n",
              "      <td>0</td>\n",
              "      <td>3</td>\n",
              "    </tr>\n",
              "    <tr>\n",
              "      <th>28</th>\n",
              "      <td>1</td>\n",
              "      <td>0</td>\n",
              "      <td>0</td>\n",
              "      <td>0</td>\n",
              "      <td>0</td>\n",
              "      <td>3</td>\n",
              "    </tr>\n",
              "    <tr>\n",
              "      <th>29</th>\n",
              "      <td>1</td>\n",
              "      <td>0</td>\n",
              "      <td>0</td>\n",
              "      <td>0</td>\n",
              "      <td>0</td>\n",
              "      <td>3</td>\n",
              "    </tr>\n",
              "    <tr>\n",
              "      <th>30</th>\n",
              "      <td>1</td>\n",
              "      <td>0</td>\n",
              "      <td>0</td>\n",
              "      <td>0</td>\n",
              "      <td>0</td>\n",
              "      <td>3</td>\n",
              "    </tr>\n",
              "    <tr>\n",
              "      <th>31</th>\n",
              "      <td>1</td>\n",
              "      <td>0</td>\n",
              "      <td>0</td>\n",
              "      <td>0</td>\n",
              "      <td>0</td>\n",
              "      <td>3</td>\n",
              "    </tr>\n",
              "  </tbody>\n",
              "</table>\n",
              "</div>\n",
              "      <button class=\"colab-df-convert\" onclick=\"convertToInteractive('df-88a6b1b2-5dc6-4649-a79c-f99d0aad98c6')\"\n",
              "              title=\"Convert this dataframe to an interactive table.\"\n",
              "              style=\"display:none;\">\n",
              "        \n",
              "  <svg xmlns=\"http://www.w3.org/2000/svg\" height=\"24px\"viewBox=\"0 0 24 24\"\n",
              "       width=\"24px\">\n",
              "    <path d=\"M0 0h24v24H0V0z\" fill=\"none\"/>\n",
              "    <path d=\"M18.56 5.44l.94 2.06.94-2.06 2.06-.94-2.06-.94-.94-2.06-.94 2.06-2.06.94zm-11 1L8.5 8.5l.94-2.06 2.06-.94-2.06-.94L8.5 2.5l-.94 2.06-2.06.94zm10 10l.94 2.06.94-2.06 2.06-.94-2.06-.94-.94-2.06-.94 2.06-2.06.94z\"/><path d=\"M17.41 7.96l-1.37-1.37c-.4-.4-.92-.59-1.43-.59-.52 0-1.04.2-1.43.59L10.3 9.45l-7.72 7.72c-.78.78-.78 2.05 0 2.83L4 21.41c.39.39.9.59 1.41.59.51 0 1.02-.2 1.41-.59l7.78-7.78 2.81-2.81c.8-.78.8-2.07 0-2.86zM5.41 20L4 18.59l7.72-7.72 1.47 1.35L5.41 20z\"/>\n",
              "  </svg>\n",
              "      </button>\n",
              "      \n",
              "  <style>\n",
              "    .colab-df-container {\n",
              "      display:flex;\n",
              "      flex-wrap:wrap;\n",
              "      gap: 12px;\n",
              "    }\n",
              "\n",
              "    .colab-df-convert {\n",
              "      background-color: #E8F0FE;\n",
              "      border: none;\n",
              "      border-radius: 50%;\n",
              "      cursor: pointer;\n",
              "      display: none;\n",
              "      fill: #1967D2;\n",
              "      height: 32px;\n",
              "      padding: 0 0 0 0;\n",
              "      width: 32px;\n",
              "    }\n",
              "\n",
              "    .colab-df-convert:hover {\n",
              "      background-color: #E2EBFA;\n",
              "      box-shadow: 0px 1px 2px rgba(60, 64, 67, 0.3), 0px 1px 3px 1px rgba(60, 64, 67, 0.15);\n",
              "      fill: #174EA6;\n",
              "    }\n",
              "\n",
              "    [theme=dark] .colab-df-convert {\n",
              "      background-color: #3B4455;\n",
              "      fill: #D2E3FC;\n",
              "    }\n",
              "\n",
              "    [theme=dark] .colab-df-convert:hover {\n",
              "      background-color: #434B5C;\n",
              "      box-shadow: 0px 1px 3px 1px rgba(0, 0, 0, 0.15);\n",
              "      filter: drop-shadow(0px 1px 2px rgba(0, 0, 0, 0.3));\n",
              "      fill: #FFFFFF;\n",
              "    }\n",
              "  </style>\n",
              "\n",
              "      <script>\n",
              "        const buttonEl =\n",
              "          document.querySelector('#df-88a6b1b2-5dc6-4649-a79c-f99d0aad98c6 button.colab-df-convert');\n",
              "        buttonEl.style.display =\n",
              "          google.colab.kernel.accessAllowed ? 'block' : 'none';\n",
              "\n",
              "        async function convertToInteractive(key) {\n",
              "          const element = document.querySelector('#df-88a6b1b2-5dc6-4649-a79c-f99d0aad98c6');\n",
              "          const dataTable =\n",
              "            await google.colab.kernel.invokeFunction('convertToInteractive',\n",
              "                                                     [key], {});\n",
              "          if (!dataTable) return;\n",
              "\n",
              "          const docLinkHtml = 'Like what you see? Visit the ' +\n",
              "            '<a target=\"_blank\" href=https://colab.research.google.com/notebooks/data_table.ipynb>data table notebook</a>'\n",
              "            + ' to learn more about interactive tables.';\n",
              "          element.innerHTML = '';\n",
              "          dataTable['output_type'] = 'display_data';\n",
              "          await google.colab.output.renderOutput(dataTable, element);\n",
              "          const docLink = document.createElement('div');\n",
              "          docLink.innerHTML = docLinkHtml;\n",
              "          element.appendChild(docLink);\n",
              "        }\n",
              "      </script>\n",
              "    </div>\n",
              "  </div>\n",
              "  "
            ],
            "text/plain": [
              "    F1  F2  F3  F4  F5  Class\n",
              "0    1   1   1   1   1      1\n",
              "1    1   1   1   1   1      1\n",
              "2    1   1   1   1   1      1\n",
              "3    1   1   1   1   0      1\n",
              "4    1   1   1   1   0      1\n",
              "5    1   1   1   1   0      1\n",
              "6    1   1   1   0   0      1\n",
              "7    1   1   1   0   0      1\n",
              "8    1   1   1   0   0      1\n",
              "9    1   1   1   0   0      1\n",
              "10   0   1   0   1   1      2\n",
              "11   0   1   0   1   1      2\n",
              "12   0   1   0   1   1      2\n",
              "13   0   1   0   1   0      2\n",
              "14   0   1   0   1   0      2\n",
              "15   0   1   0   1   0      2\n",
              "16   0   1   0   0   0      2\n",
              "17   0   1   0   0   0      2\n",
              "18   0   1   0   0   0      2\n",
              "19   0   1   0   0   0      2\n",
              "20   0   1   0   0   0      2\n",
              "21   1   0   0   1   1      3\n",
              "22   1   0   0   1   1      3\n",
              "23   1   0   0   1   0      3\n",
              "24   1   0   0   1   0      3\n",
              "25   1   0   0   1   0      3\n",
              "26   1   0   0   0   0      3\n",
              "27   1   0   0   0   0      3\n",
              "28   1   0   0   0   0      3\n",
              "29   1   0   0   0   0      3\n",
              "30   1   0   0   0   0      3\n",
              "31   1   0   0   0   0      3"
            ]
          },
          "metadata": {},
          "execution_count": 6
        }
      ]
    },
    {
      "cell_type": "code",
      "source": [
        "n=L.to_numpy()\n",
        "n"
      ],
      "metadata": {
        "colab": {
          "base_uri": "https://localhost:8080/"
        },
        "id": "m5D8vw7pSMd9",
        "outputId": "b093a6e8-1793-48b7-ea41-a17514ab1526"
      },
      "execution_count": 12,
      "outputs": [
        {
          "output_type": "execute_result",
          "data": {
            "text/plain": [
              "array([[1, 1, 1, 1, 1, 1],\n",
              "       [1, 1, 1, 1, 1, 1],\n",
              "       [1, 1, 1, 1, 1, 1],\n",
              "       [1, 1, 1, 1, 0, 1],\n",
              "       [1, 1, 1, 1, 0, 1],\n",
              "       [1, 1, 1, 1, 0, 1],\n",
              "       [1, 1, 1, 0, 0, 1],\n",
              "       [1, 1, 1, 0, 0, 1],\n",
              "       [1, 1, 1, 0, 0, 1],\n",
              "       [1, 1, 1, 0, 0, 1],\n",
              "       [0, 1, 0, 1, 1, 2],\n",
              "       [0, 1, 0, 1, 1, 2],\n",
              "       [0, 1, 0, 1, 1, 2],\n",
              "       [0, 1, 0, 1, 0, 2],\n",
              "       [0, 1, 0, 1, 0, 2],\n",
              "       [0, 1, 0, 1, 0, 2],\n",
              "       [0, 1, 0, 0, 0, 2],\n",
              "       [0, 1, 0, 0, 0, 2],\n",
              "       [0, 1, 0, 0, 0, 2],\n",
              "       [0, 1, 0, 0, 0, 2],\n",
              "       [0, 1, 0, 0, 0, 2],\n",
              "       [1, 0, 0, 1, 1, 3],\n",
              "       [1, 0, 0, 1, 1, 3],\n",
              "       [1, 0, 0, 1, 0, 3],\n",
              "       [1, 0, 0, 1, 0, 3],\n",
              "       [1, 0, 0, 1, 0, 3],\n",
              "       [1, 0, 0, 0, 0, 3],\n",
              "       [1, 0, 0, 0, 0, 3],\n",
              "       [1, 0, 0, 0, 0, 3],\n",
              "       [1, 0, 0, 0, 0, 3],\n",
              "       [1, 0, 0, 0, 0, 3],\n",
              "       [1, 0, 0, 0, 0, 3]])"
            ]
          },
          "metadata": {},
          "execution_count": 12
        }
      ]
    },
    {
      "cell_type": "code",
      "source": [
        "F1 =n[0:32,0]\n",
        "F2 =n[0:32,1]\n",
        "F3 =n[0:32,2]\n",
        "F4 =n[0:32,3]\n",
        "F5 =n[0:32,4]"
      ],
      "metadata": {
        "id": "_HuA1g8xSg52"
      },
      "execution_count": 21,
      "outputs": []
    },
    {
      "cell_type": "code",
      "source": [
        "class_F = n[0:32,5]"
      ],
      "metadata": {
        "colab": {
          "base_uri": "https://localhost:8080/"
        },
        "id": "oARZW17MTjij",
        "outputId": "0952ee3e-1a02-485d-82c1-b4ac815fa626"
      },
      "execution_count": 45,
      "outputs": [
        {
          "output_type": "execute_result",
          "data": {
            "text/plain": [
              "array([1, 1, 1, 1, 1, 1, 1, 1, 1, 1, 2, 2, 2, 2, 2, 2, 2, 2, 2, 2, 2, 3,\n",
              "       3, 3, 3, 3, 3, 3, 3, 3, 3, 3])"
            ]
          },
          "metadata": {},
          "execution_count": 45
        }
      ]
    },
    {
      "cell_type": "code",
      "source": [
        "Counter_class0 = 0\n",
        "for i in range(0,np.size(F1)):\n",
        "  if class_F[i]==0:\n",
        "    Counter_class0 = Counter_class0 +1\n",
        "print(\"shomar class haye sefr = \",Counter_class0)\n",
        "\n",
        "Counter_class1 = 0\n",
        "for i in range(0,np.size(F1)):\n",
        "  if class_F[i]==1:\n",
        "    Counter_class1 = Counter_class1 +1\n",
        "print(\"shomar class haye 1 = \",Counter_class1)\n",
        "\n",
        "Counter_class2 = 0\n",
        "for i in range(0,np.size(F1)):\n",
        "  if class_F[i]==2:\n",
        "    Counter_class2 = Counter_class2 +1\n",
        "print(\"shomar class haye 2 = \",Counter_class2)\n",
        "\n",
        "Counter_class3 = 0\n",
        "for i in range(0,np.size(F1)):\n",
        "  if class_F[i]==3:\n",
        "    Counter_class3 = Counter_class3 +1\n",
        "print(\"shomar class haye 3 = \",Counter_class3)\n"
      ],
      "metadata": {
        "colab": {
          "base_uri": "https://localhost:8080/"
        },
        "id": "rqDs-GhIUqtG",
        "outputId": "e60f9aa7-3580-4cb0-9373-c0dadecabf5c"
      },
      "execution_count": 71,
      "outputs": [
        {
          "output_type": "stream",
          "name": "stdout",
          "text": [
            "shomar class haye sefr =  0\n",
            "shomar class haye 1 =  10\n",
            "shomar class haye 2 =  11\n",
            "shomar class haye 3 =  11\n"
          ]
        }
      ]
    },
    {
      "cell_type": "code",
      "source": [
        "Counter_F10 = 0\n",
        "for i in range(0,np.size(F1)):\n",
        "  if F1[i]==0:\n",
        "    Counter_F10 = Counter_F10 +1\n",
        "print(\"shomar F1 haye sefr = \",Counter_F10)\n",
        "\n",
        "Counter_F11 = 0\n",
        "for i in range(0,np.size(F1)):\n",
        "  if F1[i]==1:\n",
        "    Counter_F11 = Counter_F11 +1\n",
        "print(\"shomar F1 haye 1 = \",Counter_F11)\n",
        "\n",
        "Counter_F12 = 0\n",
        "for i in range(0,np.size(F1)):\n",
        "  if F1[i]==2:\n",
        "    Counter_F12 = Counter_F12 +1\n",
        "print(\"shomar F1 haye 2 = \",Counter_F12)\n",
        "\n",
        "Counter_F13 = 0\n",
        "for i in range(0,np.size(F1)):\n",
        "  if F1[i]==3:\n",
        "    Counter_F13 = Counter_F13 +1\n",
        "print(\"shomar F1 haye 3 = \",Counter_F13)\n"
      ],
      "metadata": {
        "colab": {
          "base_uri": "https://localhost:8080/"
        },
        "id": "R7J29QmYT-ja",
        "outputId": "23ead0d3-6c25-454a-e5f6-741d115c36ea"
      },
      "execution_count": 48,
      "outputs": [
        {
          "output_type": "stream",
          "name": "stdout",
          "text": [
            "shomar F1 haye sefr =  11\n",
            "shomar F1 haye 1 =  21\n",
            "shomar F1 haye 2 =  0\n",
            "shomar F1 haye 3 =  0\n"
          ]
        }
      ]
    },
    {
      "cell_type": "code",
      "source": [
        "Counter_F20 = 0\n",
        "for i in range(0,np.size(F1)):\n",
        "  if F2[i]==0:\n",
        "    Counter_F20 = Counter_F20 +1\n",
        "print(\"shomar F2 haye sefr = \",Counter_F20)\n",
        "\n",
        "Counter_F21 = 0\n",
        "for i in range(0,np.size(F1)):\n",
        "  if F2[i]==1:\n",
        "    Counter_F21 = Counter_F21 +1\n",
        "print(\"shomar F2 haye 1 = \",Counter_F21)\n",
        "\n",
        "Counter_F22 = 0\n",
        "for i in range(0,np.size(F1)):\n",
        "  if F2[i]==2:\n",
        "    Counter_F22 = Counter_F22 +1\n",
        "print(\"shomar F2 haye 2 = \",Counter_F22)\n",
        "\n",
        "Counter_F23 = 0\n",
        "for i in range(0,np.size(F1)):\n",
        "  if F2[i]==3:\n",
        "    Counter_F23 = Counter_F23 +1\n",
        "print(\"shomar F2 haye 3 = \",Counter_F23)\n"
      ],
      "metadata": {
        "colab": {
          "base_uri": "https://localhost:8080/"
        },
        "id": "zxdwye4OZ6Nh",
        "outputId": "7f5f2b62-f495-420c-d523-00a4766b3a72"
      },
      "execution_count": 51,
      "outputs": [
        {
          "output_type": "stream",
          "name": "stdout",
          "text": [
            "shomar F2 haye sefr =  11\n",
            "shomar F2 haye 1 =  21\n",
            "shomar F2 haye 2 =  0\n",
            "shomar F2 haye 3 =  0\n"
          ]
        }
      ]
    },
    {
      "cell_type": "code",
      "source": [
        "Counter_F30 = 0\n",
        "for i in range(0,np.size(F1)):\n",
        "  if F3[i]==0:\n",
        "    Counter_F30 = Counter_F30 +1\n",
        "print(\"shomar F3 haye sefr = \",Counter_F30)\n",
        "\n",
        "Counter_F31 = 0\n",
        "for i in range(0,np.size(F1)):\n",
        "  if F3[i]==1:\n",
        "    Counter_F31 = Counter_F31 +1\n",
        "print(\"shomar F3 haye 1 = \",Counter_F31)\n",
        "\n",
        "Counter_F32 = 0\n",
        "for i in range(0,np.size(F1)):\n",
        "  if F3[i]==2:\n",
        "    Counter_F32 = Counter_F32 +1\n",
        "print(\"shomar F3 haye 2 = \",Counter_F32)\n",
        "\n",
        "Counter_F33 = 0\n",
        "for i in range(0,np.size(F1)):\n",
        "  if F3[i]==3:\n",
        "    Counter_F33 = Counter_F33 +1\n",
        "print(\"shomar F3 haye 3 = \",Counter_F33)\n"
      ],
      "metadata": {
        "colab": {
          "base_uri": "https://localhost:8080/"
        },
        "id": "uvH_XLFnaoqL",
        "outputId": "86c3d8b9-4cd7-4677-d3c0-de1f92fc96d5"
      },
      "execution_count": 52,
      "outputs": [
        {
          "output_type": "stream",
          "name": "stdout",
          "text": [
            "shomar F3 haye sefr =  22\n",
            "shomar F3 haye 1 =  10\n",
            "shomar F3 haye 2 =  0\n",
            "shomar F3 haye 3 =  0\n"
          ]
        }
      ]
    },
    {
      "cell_type": "code",
      "source": [
        "Counter_F40 = 0\n",
        "for i in range(0,np.size(F1)):\n",
        "  if F4[i]==0:\n",
        "    Counter_F40 = Counter_F40 +1\n",
        "print(\"shomar F4 haye sefr = \",Counter_F40)\n",
        "\n",
        "Counter_F41 = 0\n",
        "for i in range(0,np.size(F1)):\n",
        "  if F4[i]==1:\n",
        "    Counter_F41 = Counter_F41 +1\n",
        "print(\"shomar F4 haye 1 = \",Counter_F41)\n",
        "\n",
        "Counter_F42 = 0\n",
        "for i in range(0,np.size(F1)):\n",
        "  if F4[i]==2:\n",
        "    Counter_F42 = Counter_F42 +1\n",
        "print(\"shomar F4 haye 2 = \",Counter_F42)\n",
        "\n",
        "Counter_F43 = 0\n",
        "for i in range(0,np.size(F1)):\n",
        "  if F4[i]==3:\n",
        "    Counter_F43 = Counter_F43 +1\n",
        "print(\"shomar F4 haye 3 = \",Counter_F43)"
      ],
      "metadata": {
        "colab": {
          "base_uri": "https://localhost:8080/"
        },
        "id": "UGdvIlFWbMRQ",
        "outputId": "d1c41238-8957-4096-c4de-7e86ca40b08a"
      },
      "execution_count": 55,
      "outputs": [
        {
          "output_type": "stream",
          "name": "stdout",
          "text": [
            "shomar F4 haye sefr =  15\n",
            "shomar F4 haye 1 =  17\n",
            "shomar F4 haye 2 =  0\n",
            "shomar F4 haye 3 =  0\n"
          ]
        }
      ]
    },
    {
      "cell_type": "code",
      "source": [
        "Counter_F50 = 0\n",
        "for i in range(0,np.size(F1)):\n",
        "  if F5[i]==0:\n",
        "    Counter_F50 = Counter_F50 +1\n",
        "print(\"shomar F5 haye sefr = \",Counter_F50)\n",
        "\n",
        "Counter_F51 = 0\n",
        "for i in range(0,np.size(F1)):\n",
        "  if F5[i]==1:\n",
        "    Counter_F51 = Counter_F51 +1\n",
        "print(\"shomar F5 haye 1 = \",Counter_F51)\n",
        "\n",
        "Counter_F52 = 0\n",
        "for i in range(0,np.size(F1)):\n",
        "  if F5[i]==2:\n",
        "    Counter_F52 = Counter_F52 +1\n",
        "print(\"shomar F5 haye 2 = \",Counter_F52)\n",
        "\n",
        "Counter_F53 = 0\n",
        "for i in range(0,np.size(F1)):\n",
        "  if F5[i]==3:\n",
        "    Counter_F53 = Counter_F53 +1\n",
        "print(\"shomar F5 haye 3 = \",Counter_F53)"
      ],
      "metadata": {
        "colab": {
          "base_uri": "https://localhost:8080/"
        },
        "id": "fs22boOJbhxE",
        "outputId": "dcd74089-5fc1-4d93-ae9e-4c263dac305f"
      },
      "execution_count": 56,
      "outputs": [
        {
          "output_type": "stream",
          "name": "stdout",
          "text": [
            "shomar F5 haye sefr =  24\n",
            "shomar F5 haye 1 =  8\n",
            "shomar F5 haye 2 =  0\n",
            "shomar F5 haye 3 =  0\n"
          ]
        }
      ]
    },
    {
      "cell_type": "code",
      "source": [
        "info_D = -1*((Counter_class1/32)*np.log10(Counter_class1/32)+ (Counter_class2/32)*np.log10(Counter_class2/32)+(Counter_class3/32)*np.log10(Counter_class3/32))                   \n",
        "info_D"
      ],
      "metadata": {
        "colab": {
          "base_uri": "https://localhost:8080/"
        },
        "id": "zd6ZZTyHcBNb",
        "outputId": "826eac9f-865d-4fad-ebd2-e48fe4f4aecc"
      },
      "execution_count": 93,
      "outputs": [
        {
          "output_type": "execute_result",
          "data": {
            "text/plain": [
              "0.4766925072736263"
            ]
          },
          "metadata": {},
          "execution_count": 93
        }
      ]
    },
    {
      "cell_type": "code",
      "source": [
        "Counter_f1_equal_class0 = 0\n",
        "for i in range(0,np.size(F1)):\n",
        "  if class_F[i]==0:\n",
        "    if F1[i] == 0 :\n",
        "      Counter_class0 = Counter_class0 +1\n",
        "print(\"shomar class haye sefr = \",Counter_class0)\n",
        "\n",
        "Counter_f1_equal__class1 = 0\n",
        "for i in range(0,np.size(F1)):\n",
        "  if class_F[i]==1:\n",
        "    Counter_class1 = Counter_class1 +1\n",
        "print(\"shomar class haye 1 = \",Counter_class1)\n",
        "\n",
        "Counter_f1_equal__class2 = 0\n",
        "for i in range(0,np.size(F1)):\n",
        "  if class_F[i]==2:\n",
        "    Counter_class2 = Counter_class2 +1\n",
        "print(\"shomar class haye 2 = \",Counter_class2)\n",
        "\n",
        "Counter_f1_equal__class3 = 0\n",
        "for i in range(0,np.size(F1)):\n",
        "  if class_F[i]==3:\n",
        "    Counter_class3 = Counter_class3 +1\n",
        "print(\"shomar class haye 3 = \",Counter_class3)\n"
      ],
      "metadata": {
        "id": "0kwGv9ucc6H3"
      },
      "execution_count": null,
      "outputs": []
    },
    {
      "cell_type": "code",
      "source": [
        "Counter_f1_equal0_class1 = 0\n",
        "Counter_f1_equal0_class2 = 0\n",
        "Counter_f1_equal0_class3 = 0\n",
        "\n",
        "Counter_f1_equal1_class1 = 0\n",
        "Counter_f1_equal1_class2 = 0\n",
        "Counter_f1_equal1_class3 = 0\n",
        "\n",
        "for i in range(0,np.size(F1)):\n",
        "  if class_F[i]==1:\n",
        "    if F1[i] == 1 :\n",
        "      Counter_f1_equal1_class1 = Counter_f1_equal1_class1 +1\n",
        "  if class_F[i]==2:\n",
        "    if F1[i] == 1 :\n",
        "      Counter_f1_equal1_class2 = Counter_f1_equal1_class2 +1\n",
        "  if class_F[i]==3:\n",
        "    if F1[i] == 1 :\n",
        "      Counter_f1_equal1_class3 = Counter_f1_equal1_class3 +1\n",
        "  if class_F[i]==1:\n",
        "    if F1[i] == 0 :\n",
        "      Counter_f1_equal0_class1 = Counter_f1_equal0_class1 +1\n",
        "  if class_F[i]==2:\n",
        "    if F1[i] == 0 :\n",
        "      Counter_f1_equal0_class2 = Counter_f1_equal0_class2 +1\n",
        "  if class_F[i]==3:\n",
        "    if F1[i] == 0 :\n",
        "      Counter_f1_equal0_class3 = Counter_f1_equal0_class3 +1\n",
        "\n",
        "print(\"shomar 1 ha dar  class 1 = \",Counter_f1_equal1_class1)\n",
        "print(\"shomar 1 ha dar  class 2 = \",Counter_f1_equal1_class2)\n",
        "print(\"shomar 1 ha dar  class 3 = \",Counter_f1_equal1_class3)\n",
        "print(\"shomar 0 ha dar  class 1 = \",Counter_f1_equal0_class1)\n",
        "print(\"shomar 0 ha dar  class 2 = \",Counter_f1_equal0_class2)\n",
        "print(\"shomar 0 ha dar  class 3 = \",Counter_f1_equal0_class3)"
      ],
      "metadata": {
        "colab": {
          "base_uri": "https://localhost:8080/"
        },
        "id": "KEiMyvWWg6pG",
        "outputId": "872b81be-dfd7-4bf7-f0e1-20e531fdc12e"
      },
      "execution_count": 113,
      "outputs": [
        {
          "output_type": "stream",
          "name": "stdout",
          "text": [
            "shomar 1 ha dar  class 1 =  10\n",
            "shomar 1 ha dar  class 2 =  0\n",
            "shomar 1 ha dar  class 3 =  11\n",
            "shomar 0 ha dar  class 1 =  0\n",
            "shomar 0 ha dar  class 2 =  11\n",
            "shomar 0 ha dar  class 3 =  0\n"
          ]
        }
      ]
    },
    {
      "cell_type": "code",
      "source": [
        "info_F1 = -1*(Counter_F11/np.size(F1))*((Counter_f1_equal1_class1/Counter_F11)*np.log10(Counter_f1_equal1_class1/Counter_F11)+((Counter_f1_equal1_class3/Counter_F11)*np.log10(Counter_f1_equal1_class3/Counter_F11)))\n",
        "info_F1"
      ],
      "metadata": {
        "id": "KJ3O3IPPr8K-",
        "outputId": "35b20d03-5963-4d5f-bc26-a0da74d61160",
        "colab": {
          "base_uri": "https://localhost:8080/"
        }
      },
      "execution_count": 118,
      "outputs": [
        {
          "output_type": "execute_result",
          "data": {
            "text/plain": [
              "0.19722767664599467"
            ]
          },
          "metadata": {},
          "execution_count": 118
        }
      ]
    },
    {
      "cell_type": "code",
      "source": [
        "Counter_f2_equal0_class1 = 0\n",
        "Counter_f2_equal0_class2 = 0\n",
        "Counter_f2_equal0_class3 = 0\n",
        "\n",
        "Counter_f2_equal1_class1 = 0\n",
        "Counter_f2_equal1_class2 = 0\n",
        "Counter_f2_equal1_class3 = 0\n",
        "\n",
        "for i in range(0,np.size(F1)):\n",
        "  if class_F[i]==1:\n",
        "    if F2[i] == 1 :\n",
        "      Counter_f2_equal1_class1 = Counter_f2_equal1_class1 +1\n",
        "  if class_F[i]==2:\n",
        "    if F2[i] == 1 :\n",
        "      Counter_f2_equal1_class2 = Counter_f2_equal1_class2 +1\n",
        "  if class_F[i]==3:\n",
        "    if F2[i] == 1 :\n",
        "      Counter_f2_equal1_class3 = Counter_f2_equal1_class3 +1\n",
        "  if class_F[i]==1:\n",
        "    if F2[i] == 0 :\n",
        "      Counter_f2_equal0_class1 = Counter_f2_equal0_class1 +1\n",
        "  if class_F[i]==2:\n",
        "    if F2[i] == 0 :\n",
        "      Counter_f2_equal0_class2 = Counter_f2_equal0_class2 +1\n",
        "  if class_F[i]==3:\n",
        "    if F2[i] == 0 :\n",
        "      Counter_f2_equal0_class3 = Counter_f2_equal0_class3 +1\n",
        "\n",
        "print(\"shomar 1 ha dar  class 1 = \",Counter_f2_equal1_class1)\n",
        "print(\"shomar 1 ha dar  class 2 = \",Counter_f2_equal1_class2)\n",
        "print(\"shomar 1 ha dar  class 3 = \",Counter_f2_equal1_class3)\n",
        "print(\"shomar 0 ha dar  class 1 = \",Counter_f2_equal0_class1)\n",
        "print(\"shomar 0 ha dar  class 2 = \",Counter_f2_equal0_class2)\n",
        "print(\"shomar 0 ha dar  class 3 = \",Counter_f2_equal0_class3)"
      ],
      "metadata": {
        "colab": {
          "base_uri": "https://localhost:8080/"
        },
        "id": "JYxFFRVNkHAq",
        "outputId": "465ce819-c485-4343-997c-e10db7f2e5be"
      },
      "execution_count": 101,
      "outputs": [
        {
          "output_type": "stream",
          "name": "stdout",
          "text": [
            "shomar 1 ha dar  class 1 =  10\n",
            "shomar 1 ha dar  class 2 =  11\n",
            "shomar 1 ha dar  class 3 =  0\n",
            "shomar 0 ha dar  class 1 =  0\n",
            "shomar 0 ha dar  class 2 =  0\n",
            "shomar 0 ha dar  class 3 =  11\n"
          ]
        }
      ]
    },
    {
      "cell_type": "code",
      "source": [
        "info_F2 = (-1*((Counter_F21/np.size(F1))*((Counter_f2_equal1_class1/Counter_F21)*np.log10(Counter_f2_equal1_class1/Counter_F21)+((Counter_f2_equal1_class2/Counter_F11)*np.log10(Counter_f2_equal1_class2/Counter_F11)))))-((Counter_F20/np.size(F1))*((Counter_f2_equal0_class3/Counter_F20)*np.log10(Counter_f2_equal0_class3/Counter_F20)))\n",
        "info_F2"
      ],
      "metadata": {
        "id": "Lt2rQ54OvNei",
        "outputId": "a5eac1c4-2b2a-4850-9056-fd4e8c9c7ffb",
        "colab": {
          "base_uri": "https://localhost:8080/"
        }
      },
      "execution_count": 129,
      "outputs": [
        {
          "output_type": "execute_result",
          "data": {
            "text/plain": [
              "0.19722767664599467"
            ]
          },
          "metadata": {},
          "execution_count": 129
        }
      ]
    },
    {
      "cell_type": "code",
      "source": [
        "Counter_f3_equal0_class1 = 0\n",
        "Counter_f3_equal0_class2 = 0\n",
        "Counter_f3_equal0_class3 = 0\n",
        "\n",
        "Counter_f3_equal1_class1 = 0\n",
        "Counter_f3_equal1_class2 = 0\n",
        "Counter_f3_equal1_class3 = 0\n",
        "\n",
        "for i in range(0,np.size(F1)):\n",
        "  if class_F[i]==1:\n",
        "    if F3[i] == 1 :\n",
        "      Counter_f3_equal1_class1 = Counter_f3_equal1_class1 +1\n",
        "  if class_F[i]==2:\n",
        "    if F3[i] == 1 :\n",
        "      Counter_f3_equal1_class2 = Counter_f3_equal1_class2 +1\n",
        "  if class_F[i]==3:\n",
        "    if F3[i] == 1 :\n",
        "      Counter_f3_equal1_class3 = Counter_f3_equal1_class3 +1\n",
        "  if class_F[i]==1:\n",
        "    if F3[i] == 0 :\n",
        "      Counter_f3_equal0_class1 = Counter_f3_equal0_class1 +1\n",
        "  if class_F[i]==2:\n",
        "    if F3[i] == 0 :\n",
        "      Counter_f3_equal0_class2 = Counter_f3_equal0_class2 +1\n",
        "  if class_F[i]==3:\n",
        "    if F3[i] == 0 :\n",
        "      Counter_f3_equal0_class3 = Counter_f3_equal0_class3 +1\n",
        "\n",
        "print(\"shomar 1 ha dar  class 1 = \",Counter_f3_equal1_class1)\n",
        "print(\"shomar 1 ha dar  class 2 = \",Counter_f3_equal1_class2)\n",
        "print(\"shomar 1 ha dar  class 3 = \",Counter_f3_equal1_class3)\n",
        "print(\"shomar 0 ha dar  class 1 = \",Counter_f3_equal0_class1)\n",
        "print(\"shomar 0 ha dar  class 2 = \",Counter_f3_equal0_class2)\n",
        "print(\"shomar 0 ha dar  class 3 = \",Counter_f3_equal0_class3)"
      ],
      "metadata": {
        "colab": {
          "base_uri": "https://localhost:8080/"
        },
        "id": "Rtjnfvf8oYBD",
        "outputId": "48a6da7a-d343-4cf5-ab93-8e8d07b117ff"
      },
      "execution_count": 102,
      "outputs": [
        {
          "output_type": "stream",
          "name": "stdout",
          "text": [
            "shomar 1 ha dar  class 1 =  10\n",
            "shomar 1 ha dar  class 2 =  0\n",
            "shomar 1 ha dar  class 3 =  0\n",
            "shomar 0 ha dar  class 1 =  0\n",
            "shomar 0 ha dar  class 2 =  11\n",
            "shomar 0 ha dar  class 3 =  11\n"
          ]
        }
      ]
    },
    {
      "cell_type": "code",
      "source": [
        "info_F3 = (-1*((Counter_F30/np.size(F1))*((Counter_f3_equal0_class2/Counter_F30)*np.log10(Counter_f3_equal0_class2/Counter_F30)+((Counter_f2_equal0_class3/Counter_F30)*np.log10(Counter_f3_equal0_class3/Counter_F30)))))\n",
        "info_F3"
      ],
      "metadata": {
        "id": "HmBaKmwOz2_D",
        "outputId": "cde06d56-afc2-43ab-d311-334d43167008",
        "colab": {
          "base_uri": "https://localhost:8080/"
        }
      },
      "execution_count": 132,
      "outputs": [
        {
          "output_type": "execute_result",
          "data": {
            "text/plain": [
              "0.20695812201898708"
            ]
          },
          "metadata": {},
          "execution_count": 132
        }
      ]
    },
    {
      "cell_type": "code",
      "source": [
        "Counter_f4_equal0_class1 = 0\n",
        "Counter_f4_equal0_class2 = 0\n",
        "Counter_f4_equal0_class3 = 0\n",
        "\n",
        "Counter_f4_equal1_class1 = 0\n",
        "Counter_f4_equal1_class2 = 0\n",
        "Counter_f4_equal1_class3 = 0\n",
        "\n",
        "for i in range(0,np.size(F1)):\n",
        "  if class_F[i]==1:\n",
        "    if F4[i] == 1 :\n",
        "      Counter_f4_equal1_class1 = Counter_f4_equal1_class1 +1\n",
        "  if class_F[i]==2:\n",
        "    if F4[i] == 1 :\n",
        "      Counter_f4_equal1_class2 = Counter_f4_equal1_class2 +1\n",
        "  if class_F[i]==3:\n",
        "    if F4[i] == 1 :\n",
        "      Counter_f4_equal1_class3 = Counter_f4_equal1_class3 +1\n",
        "  if class_F[i]==1:\n",
        "    if F4[i] == 0 :\n",
        "      Counter_f4_equal0_class1 = Counter_f4_equal0_class1 +1\n",
        "  if class_F[i]==2:\n",
        "    if F4[i] == 0 :\n",
        "      Counter_f4_equal0_class2 = Counter_f4_equal0_class2 +1\n",
        "  if class_F[i]==3:\n",
        "    if F4[i] == 0 :\n",
        "      Counter_f4_equal0_class3 = Counter_f4_equal0_class3 +1\n",
        "\n",
        "print(\"shomar 1 ha dar  class 1 = \",Counter_f4_equal1_class1)\n",
        "print(\"shomar 1 ha dar  class 2 = \",Counter_f4_equal1_class2)\n",
        "print(\"shomar 1 ha dar  class 3 = \",Counter_f4_equal1_class3)\n",
        "print(\"shomar 0 ha dar  class 1 = \",Counter_f4_equal0_class1)\n",
        "print(\"shomar 0 ha dar  class 2 = \",Counter_f4_equal0_class2)\n",
        "print(\"shomar 0 ha dar  class 3 = \",Counter_f4_equal0_class3)"
      ],
      "metadata": {
        "colab": {
          "base_uri": "https://localhost:8080/"
        },
        "id": "jOth4gAVog61",
        "outputId": "73d1e912-5156-4007-cc28-c160c400aa21"
      },
      "execution_count": 107,
      "outputs": [
        {
          "output_type": "stream",
          "name": "stdout",
          "text": [
            "shomar 1 ha dar  class 1 =  6\n",
            "shomar 1 ha dar  class 2 =  6\n",
            "shomar 1 ha dar  class 3 =  5\n",
            "shomar 0 ha dar  class 1 =  4\n",
            "shomar 0 ha dar  class 2 =  5\n",
            "shomar 0 ha dar  class 3 =  6\n"
          ]
        }
      ]
    },
    {
      "cell_type": "code",
      "source": [
        "info_F4 = (-1*((Counter_F41/np.size(F1))*\n",
        "               ((Counter_f4_equal1_class1/Counter_F41)*\n",
        "                np.log10(Counter_f4_equal1_class1/Counter_F41)+\n",
        "                (Counter_f4_equal1_class2/Counter_F41)*\n",
        "                 np.log10(Counter_f4_equal1_class2/Counter_F41)+\n",
        "                 (Counter_f4_equal1_class3/Counter_F41)*\n",
        "                  np.log10(Counter_f4_equal1_class3/Counter_F41))) -\n",
        "           ((Counter_F40/np.size(F1))*\n",
        "            ((Counter_f4_equal0_class1/Counter_F40)*\n",
        "             np.log10(Counter_f4_equal0_class1/Counter_F40)+\n",
        "             (Counter_f4_equal0_class2/Counter_F40)*\n",
        "              np.log10(Counter_f4_equal0_class2/Counter_F40)+\n",
        "              ((Counter_f4_equal0_class3/Counter_F40)*\n",
        "               np.log10(Counter_f4_equal0_class3/Counter_F40)))))\n",
        "info_F4\n"
      ],
      "metadata": {
        "id": "BAG86Ug01iBp",
        "outputId": "6025761c-fa9b-49ab-8daa-fee0a5e4395c",
        "colab": {
          "base_uri": "https://localhost:8080/"
        }
      },
      "execution_count": 162,
      "outputs": [
        {
          "output_type": "execute_result",
          "data": {
            "text/plain": [
              "0.47357306355275786"
            ]
          },
          "metadata": {},
          "execution_count": 162
        }
      ]
    },
    {
      "cell_type": "code",
      "source": [
        "Counter_f4_equal0_class1"
      ],
      "metadata": {
        "id": "YU8KYw9H6bnK",
        "outputId": "333ec9f6-75d2-42a8-ef98-f626a8254f6c",
        "colab": {
          "base_uri": "https://localhost:8080/"
        }
      },
      "execution_count": 159,
      "outputs": [
        {
          "output_type": "execute_result",
          "data": {
            "text/plain": [
              "4"
            ]
          },
          "metadata": {},
          "execution_count": 159
        }
      ]
    },
    {
      "cell_type": "code",
      "source": [
        "Counter_f5_equal0_class1 = 0\n",
        "Counter_f5_equal0_class2 = 0\n",
        "Counter_f5_equal0_class3 = 0\n",
        "\n",
        "Counter_f5_equal1_class1 = 0\n",
        "Counter_f5_equal1_class2 = 0\n",
        "Counter_f5_equal1_class3 = 0\n",
        "\n",
        "for i in range(0,np.size(F1)):\n",
        "  if class_F[i]==1:\n",
        "    if F5[i] == 1 :\n",
        "      Counter_f5_equal1_class1 = Counter_f5_equal1_class1 +1\n",
        "  if class_F[i]==2:\n",
        "    if F5[i] == 1 :\n",
        "      Counter_f5_equal1_class2 = Counter_f5_equal1_class2 +1\n",
        "  if class_F[i]==3:\n",
        "    if F5[i] == 1 :\n",
        "      Counter_f5_equal1_class3 = Counter_f5_equal1_class3 +1\n",
        "  if class_F[i]==1:\n",
        "    if F5[i] == 0 :\n",
        "      Counter_f5_equal0_class1 = Counter_f5_equal0_class1 +1\n",
        "  if class_F[i]==2:\n",
        "    if F5[i] == 0 :\n",
        "      Counter_f5_equal0_class2 = Counter_f5_equal0_class2 +1\n",
        "  if class_F[i]==3:\n",
        "    if F5[i] == 0 :\n",
        "      Counter_f5_equal0_class3 = Counter_f5_equal0_class3 +1\n",
        "\n",
        "print(\"shomar 1 ha dar  class 1 = \",Counter_f5_equal1_class1)\n",
        "print(\"shomar 1 ha dar  class 2 = \",Counter_f5_equal1_class2)\n",
        "print(\"shomar 1 ha dar  class 3 = \",Counter_f5_equal1_class3)\n",
        "print(\"shomar 0 ha dar  class 1 = \",Counter_f5_equal0_class1)\n",
        "print(\"shomar 0 ha dar  class 2 = \",Counter_f5_equal0_class2)\n",
        "print(\"shomar 0 ha dar  class 3 = \",Counter_f5_equal0_class3)"
      ],
      "metadata": {
        "colab": {
          "base_uri": "https://localhost:8080/"
        },
        "id": "EyczbFflohaG",
        "outputId": "b98cca91-74ae-4f9f-fce3-4bdda67bdf36"
      },
      "execution_count": 149,
      "outputs": [
        {
          "output_type": "stream",
          "name": "stdout",
          "text": [
            "shomar 1 ha dar  class 1 =  3\n",
            "shomar 1 ha dar  class 2 =  3\n",
            "shomar 1 ha dar  class 3 =  2\n",
            "shomar 0 ha dar  class 1 =  7\n",
            "shomar 0 ha dar  class 2 =  8\n",
            "shomar 0 ha dar  class 3 =  9\n"
          ]
        }
      ]
    },
    {
      "cell_type": "code",
      "source": [
        "info_F5 = (-1*((Counter_F51/np.size(F1))*\n",
        "               ((Counter_f5_equal1_class1/Counter_F51)*\n",
        "                np.log10(Counter_f5_equal1_class1/Counter_F51)+\n",
        "                (Counter_f5_equal1_class2/Counter_F51)*\n",
        "                 np.log10(Counter_f5_equal1_class2/Counter_F51)+\n",
        "                 (Counter_f5_equal1_class3/Counter_F51)*\n",
        "                  np.log10(Counter_f5_equal1_class3/Counter_F51))) -\n",
        "           ((Counter_F50/np.size(F1))*\n",
        "            ((Counter_f5_equal0_class1/Counter_F50)*\n",
        "             np.log10(Counter_f5_equal0_class1/Counter_F50)+\n",
        "             (Counter_f5_equal0_class2/Counter_F50)*\n",
        "              np.log10(Counter_f5_equal0_class2/Counter_F50)+\n",
        "              ((Counter_f5_equal0_class3/Counter_F50)*\n",
        "               np.log10(Counter_f5_equal0_class3/Counter_F50)))))\n",
        "info_F5"
      ],
      "metadata": {
        "id": "IUO0wk5LrFWk",
        "outputId": "20e01ef3-2179-4315-d823-bed33bb6e762",
        "colab": {
          "base_uri": "https://localhost:8080/"
        }
      },
      "execution_count": 165,
      "outputs": [
        {
          "output_type": "execute_result",
          "data": {
            "text/plain": [
              "0.4736379192618402"
            ]
          },
          "metadata": {},
          "execution_count": 165
        }
      ]
    },
    {
      "cell_type": "code",
      "source": [
        "gain_F1 =-info_F1+info_D\n",
        "gain_F2 =-info_F2+info_D\n",
        "gain_F3 =-info_F3+info_D\n",
        "gain_F4 =-info_F4+info_D\n",
        "gain_F5 =-info_F5+info_D\n",
        "print(\"gain_F1 = \",gain_F1)\n",
        "print(\"gain_F2 = \",gain_F2)\n",
        "print(\"gain_F3 = \",gain_F3)\n",
        "print(\"gain_F4 = \",gain_F4)\n",
        "print(\"gain_F5 = \",gain_F5)"
      ],
      "metadata": {
        "id": "owEebDw773Fd",
        "outputId": "6f8c51e7-fbfb-4db2-9d1c-522bbf7431aa",
        "colab": {
          "base_uri": "https://localhost:8080/"
        }
      },
      "execution_count": 168,
      "outputs": [
        {
          "output_type": "stream",
          "name": "stdout",
          "text": [
            "gain_F1 =  0.2794648306276316\n",
            "gain_F2 =  0.2794648306276316\n",
            "gain_F3 =  0.2697343852546392\n",
            "gain_F4 =  0.00311944372086842\n",
            "gain_F5 =  0.003054588011786097\n"
          ]
        }
      ]
    },
    {
      "cell_type": "code",
      "source": [
        ""
      ],
      "metadata": {
        "id": "J5X0HPsK8lEa"
      },
      "execution_count": null,
      "outputs": []
    }
  ],
  "metadata": {
    "colab": {
      "collapsed_sections": [],
      "name": "Welcome To Colaboratory",
      "provenance": [],
      "include_colab_link": true
    },
    "kernelspec": {
      "display_name": "Python 3",
      "name": "python3"
    }
  },
  "nbformat": 4,
  "nbformat_minor": 0
}