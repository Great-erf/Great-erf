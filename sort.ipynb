{
  "cells": [
    {
      "cell_type": "markdown",
      "metadata": {
        "id": "view-in-github",
        "colab_type": "text"
      },
      "source": [
        "<a href=\"https://colab.research.google.com/github/Great-erf/pythone-code/blob/pythone/sort.ipynb\" target=\"_parent\"><img src=\"https://colab.research.google.com/assets/colab-badge.svg\" alt=\"Open In Colab\"/></a>"
      ]
    },
    {
      "cell_type": "markdown",
      "source": [
        "# sort\n"
      ],
      "metadata": {
        "id": "VS5eXXc6CDlm"
      }
    },
    {
      "cell_type": "code",
      "source": [
        "import numpy as np"
      ],
      "metadata": {
        "id": "p1EBXHA2DFQf"
      },
      "execution_count": 4,
      "outputs": []
    },
    {
      "cell_type": "code",
      "source": [
        "# def sort string\n",
        "def string_sort(string):\n",
        "  for j in range (np.size(string)-1):\n",
        "   for i in range(np.size(string)-1):\n",
        "     if len(string[i]) > len(string[i+1]):\n",
        "        L = string[i]\n",
        "        string[i] = string[i+1]\n",
        "        string[i+1] = L\n",
        "  return string"
      ],
      "metadata": {
        "id": "_Kfvi6HLCWmV"
      },
      "execution_count": 50,
      "outputs": []
    },
    {
      "cell_type": "code",
      "source": [
        "string = [\",jk,jk,\",\"wqeqr\",\"bvb\",\"s\",\"iiiiiii\",\"ujnujh\"]\n",
        "string_sort(string)"
      ],
      "metadata": {
        "colab": {
          "base_uri": "https://localhost:8080/"
        },
        "id": "FGZ1cPLXLWnb",
        "outputId": "0e1c7594-a870-4a15-953f-987811efc633"
      },
      "execution_count": 55,
      "outputs": [
        {
          "output_type": "execute_result",
          "data": {
            "text/plain": [
              "['s', 'bvb', 'wqeqr', 'ujnujh', ',jk,jk,', 'iiiiiii']"
            ]
          },
          "metadata": {},
          "execution_count": 55
        }
      ]
    },
    {
      "cell_type": "code",
      "source": [
        "# def sort array\n",
        "def arrey_sort(array):\n",
        "  for j in range (np.size(array)-1):\n",
        "   for i in range(np.size(array)-1):\n",
        "     if array[i] > array[i+1]:\n",
        "        z = array[i]\n",
        "        array[i] = array[i+1]\n",
        "        array[i+1] = z\n",
        "  return array"
      ],
      "metadata": {
        "id": "6ZiCEYYjKkvr"
      },
      "execution_count": 62,
      "outputs": []
    },
    {
      "cell_type": "code",
      "source": [
        "array = [16161 , -8484984 ,8039581,12,69484,-581,102,-56,20,20]\n",
        "arrey_sort(array)"
      ],
      "metadata": {
        "colab": {
          "base_uri": "https://localhost:8080/"
        },
        "id": "TxtUyT4qLIj2",
        "outputId": "388ae248-010c-4ca0-bc43-673a400de9ed"
      },
      "execution_count": 63,
      "outputs": [
        {
          "output_type": "execute_result",
          "data": {
            "text/plain": [
              "[-8484984, -581, -56, 12, 20, 20, 102, 16161, 69484, 8039581]"
            ]
          },
          "metadata": {},
          "execution_count": 63
        }
      ]
    }
  ],
  "metadata": {
    "colab": {
      "collapsed_sections": [],
      "name": "Welcome To Colaboratory",
      "toc_visible": true,
      "provenance": [],
      "include_colab_link": true
    },
    "kernelspec": {
      "display_name": "Python 3",
      "name": "python3"
    }
  },
  "nbformat": 4,
  "nbformat_minor": 0
}